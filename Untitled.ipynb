{
 "cells": [
  {
   "cell_type": "code",
   "execution_count": 1,
   "id": "252bda24-394c-42a6-ba2e-370961db59b8",
   "metadata": {},
   "outputs": [
    {
     "name": "stdout",
     "output_type": "stream",
     "text": [
      "JupyterLab v4.0.13\n",
      "/home/camila/anaconda3/envs/astro2/share/jupyter/labextensions\n",
      "        jupyterlab_pygments v0.3.0 \u001b[32menabled\u001b[0m \u001b[32mOK\u001b[0m (python, jupyterlab_pygments)\n",
      "        jupyter-matplotlib v0.11.4 \u001b[32menabled\u001b[0m \u001b[32mOK\u001b[0m\n",
      "        jupyterlab_apod v3.5.0 \u001b[32menabled\u001b[0m \u001b[31m X\u001b[0m (python, jupyterlab_apod)\n",
      "        @jupyter-notebook/lab-extension v7.0.8 \u001b[32menabled\u001b[0m \u001b[32mOK\u001b[0m\n",
      "        @jupyter-widgets/jupyterlab-manager v3.0.0 \u001b[32menabled\u001b[0m \u001b[31m X\u001b[0m (python, jupyterlab_widgets)\n",
      "\n",
      "\n",
      "   The following extensions are outdated:\n",
      "        jupyterlab_apod\n",
      "        @jupyter-widgets/jupyterlab-manager\n",
      "        \n",
      "   Consider checking if an update is available for these packages.\n",
      "\n"
     ]
    }
   ],
   "source": [
    "!jupyter labextension list"
   ]
  },
  {
   "cell_type": "code",
   "execution_count": 2,
   "id": "16fbad43-3269-497c-9e98-938f08291379",
   "metadata": {},
   "outputs": [
    {
     "name": "stdout",
     "output_type": "stream",
     "text": [
      "JupyterLab v4.0.13\n",
      "/home/camila/anaconda3/envs/astro2/share/jupyter/labextensions\n",
      "        jupyterlab_pygments v0.3.0 \u001b[32menabled\u001b[0m \u001b[32mOK\u001b[0m (python, jupyterlab_pygments)\n",
      "        jupyter-matplotlib v0.11.4 \u001b[32menabled\u001b[0m \u001b[32mOK\u001b[0m\n",
      "        jupyterlab_apod v3.5.0 \u001b[32menabled\u001b[0m \u001b[31m X\u001b[0m (python, jupyterlab_apod)\n",
      "        @jupyter-notebook/lab-extension v7.0.8 \u001b[32menabled\u001b[0m \u001b[32mOK\u001b[0m\n",
      "        @jupyter-widgets/jupyterlab-manager v3.0.0 \u001b[32menabled\u001b[0m \u001b[31m X\u001b[0m (python, jupyterlab_widgets)\n",
      "\n",
      "\n",
      "   The following extensions are outdated:\n",
      "        jupyterlab_apod\n",
      "        @jupyter-widgets/jupyterlab-manager\n",
      "        \n",
      "   Consider checking if an update is available for these packages.\n",
      "\n"
     ]
    }
   ],
   "source": [
    "!jupyter labextension list\n"
   ]
  },
  {
   "cell_type": "code",
   "execution_count": 1,
   "id": "00668a81-b0ca-4f92-9adf-d110a6ae6e2b",
   "metadata": {},
   "outputs": [
    {
     "name": "stdout",
     "output_type": "stream",
     "text": [
      "JupyterLab v4.0.13\n",
      "/home/camila/anaconda3/envs/astro2/share/jupyter/labextensions\n",
      "        jupyterlab_pygments v0.3.0 \u001b[32menabled\u001b[0m \u001b[32mOK\u001b[0m (python, jupyterlab_pygments)\n",
      "        jupyter-matplotlib v0.11.4 \u001b[32menabled\u001b[0m \u001b[32mOK\u001b[0m\n",
      "        jupyterlab_apod v3.5.0 \u001b[32menabled\u001b[0m \u001b[31m X\u001b[0m (python, jupyterlab_apod)\n",
      "        @jupyter-notebook/lab-extension v7.0.8 \u001b[32menabled\u001b[0m \u001b[32mOK\u001b[0m\n",
      "        @jupyter-widgets/jupyterlab-manager v3.0.0 \u001b[32menabled\u001b[0m \u001b[31m X\u001b[0m (python, jupyterlab_widgets)\n",
      "\n",
      "\n",
      "   The following extensions are outdated:\n",
      "        jupyterlab_apod\n",
      "        @jupyter-widgets/jupyterlab-manager\n",
      "        \n",
      "   Consider checking if an update is available for these packages.\n",
      "\n"
     ]
    }
   ],
   "source": [
    "!jupyter labextension list"
   ]
  },
  {
   "cell_type": "code",
   "execution_count": 1,
   "id": "157f266a-e914-4ee1-a5e1-3a511de72251",
   "metadata": {},
   "outputs": [
    {
     "name": "stdout",
     "output_type": "stream",
     "text": [
      "JupyterLab v4.0.13\n",
      "/home/camila/anaconda3/envs/astro2/share/jupyter/labextensions\n",
      "        jupyterlab_pygments v0.3.0 \u001b[32menabled\u001b[0m \u001b[32mOK\u001b[0m (python, jupyterlab_pygments)\n",
      "        jupyter-matplotlib v0.11.4 \u001b[32menabled\u001b[0m \u001b[32mOK\u001b[0m\n",
      "        @jupyter-notebook/lab-extension v7.0.8 \u001b[32menabled\u001b[0m \u001b[32mOK\u001b[0m\n",
      "        @jupyter-widgets/jupyterlab-manager v3.0.0 \u001b[32menabled\u001b[0m \u001b[31m X\u001b[0m (python, jupyterlab_widgets)\n",
      "\n",
      "\n",
      "   The following extensions are outdated:\n",
      "        @jupyter-widgets/jupyterlab-manager\n",
      "        \n",
      "   Consider checking if an update is available for these packages.\n",
      "\n"
     ]
    }
   ],
   "source": [
    "!jupyter labextension list\n"
   ]
  },
  {
   "cell_type": "code",
   "execution_count": 1,
   "id": "ccf0aa2a-c1ab-4985-a005-4d6212300d48",
   "metadata": {},
   "outputs": [
    {
     "name": "stdout",
     "output_type": "stream",
     "text": [
      "JupyterLab v4.0.13\n",
      "/home/camila/anaconda3/envs/astro2/share/jupyter/labextensions\n",
      "        jupyterlab_pygments v0.3.0 \u001b[32menabled\u001b[0m \u001b[32mOK\u001b[0m (python, jupyterlab_pygments)\n",
      "        jupyter-matplotlib v0.11.4 \u001b[32menabled\u001b[0m \u001b[32mOK\u001b[0m\n",
      "        @jupyter-notebook/lab-extension v7.0.8 \u001b[32menabled\u001b[0m \u001b[32mOK\u001b[0m\n",
      "        @jupyter-widgets/jupyterlab-manager v3.0.0 \u001b[32menabled\u001b[0m \u001b[31m X\u001b[0m (python, jupyterlab_widgets)\n",
      "\n",
      "\n",
      "   The following extensions are outdated:\n",
      "        @jupyter-widgets/jupyterlab-manager\n",
      "        \n",
      "   Consider checking if an update is available for these packages.\n",
      "\n"
     ]
    }
   ],
   "source": [
    "!jupyter labextension list"
   ]
  },
  {
   "cell_type": "code",
   "execution_count": null,
   "id": "fe61df52-b166-4803-af96-a3b76ae9ed87",
   "metadata": {},
   "outputs": [],
   "source": []
  }
 ],
 "metadata": {
  "kernelspec": {
   "display_name": "Python 3 (ipykernel)",
   "language": "python",
   "name": "python3"
  },
  "language_info": {
   "codemirror_mode": {
    "name": "ipython",
    "version": 3
   },
   "file_extension": ".py",
   "mimetype": "text/x-python",
   "name": "python",
   "nbconvert_exporter": "python",
   "pygments_lexer": "ipython3",
   "version": "3.12.2"
  }
 },
 "nbformat": 4,
 "nbformat_minor": 5
}
